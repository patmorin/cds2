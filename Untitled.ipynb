{
 "cells": [
  {
   "cell_type": "code",
   "execution_count": 11,
   "id": "40a6078d",
   "metadata": {},
   "outputs": [
    {
     "name": "stdout",
     "output_type": "stream",
     "text": [
      "n=1000000000000000, sol=0.5384615384615375n, sol-7n/13=-0.00000000000000088818n\n",
      "{'D': 923076923076922.2, 'I': 76923076923077.88, 'B': 230769230769233.3, 'r': 461538461538460.6, 'n': 1000000000000000.1, 'x2': 230769230769230.3, 'x3': -0.0, 'x4': -0.0, 'x5': -0.0, 'x12': 230769230769229.3}\n"
     ]
    }
   ],
   "source": [
    "p = MixedIntegerLinearProgram()\n",
    "v = p.new_variable()\n",
    "D, I, B, r, n, x2, x3, x4, x5, x12 = v[\"D\"], v[\"I\"], v[\"B\"], v[\"r\"], v[\"n\"], v[\"x2\"], v[\"x3\"], v[\"x4\"], v[\"x5\"], v[\"x12\"]\n",
    "N = 1000000000000000\n",
    "p.add_constraint(n <= N)\n",
    "p.add_constraint(x2 >= 0)\n",
    "p.add_constraint(x3 >= 0)\n",
    "p.add_constraint(x4 >= 0)\n",
    "p.add_constraint(x5 >= 0)\n",
    "p.add_constraint(x12 >= 0)\n",
    "p.add_constraint(D + I == n)\n",
    "p.add_constraint(D >= 3 + 2*x2 + 3*x3 + 4*x4 + 5*x5 + 2*x12)\n",
    "p.add_constraint(r - 1 == x2 + x3 + x4 + x5 + x12)\n",
    "p.add_constraint(B <= 3 + x2 + 2*x3 + 3*x4 + 4*x5)\n",
    "p.add_constraint(x2 <= x3 + x4 + x5 + x12 + 1)\n",
    "p.add_constraint(D >= r - 1 + B)\n",
    "p.add_constraint(B >= 3*I)\n",
    "p.set_objective(r - 1 + I)\n",
    "ds = p.solve()\n",
    "print(\"n={}, sol={}n, sol-7n/13={:.20f}n\".format(N, ds/N, ds/N - 7/13))\n",
    "sol = p.get_values(v)\n",
    "print(sol)\n"
   ]
  },
  {
   "cell_type": "code",
   "execution_count": null,
   "id": "96b42796",
   "metadata": {},
   "outputs": [],
   "source": []
  },
  {
   "cell_type": "code",
   "execution_count": null,
   "id": "0c63f909",
   "metadata": {},
   "outputs": [],
   "source": []
  }
 ],
 "metadata": {
  "kernelspec": {
   "display_name": "SageMath 9.5",
   "language": "sage",
   "name": "sagemath"
  },
  "language_info": {
   "codemirror_mode": {
    "name": "ipython",
    "version": 3
   },
   "file_extension": ".py",
   "mimetype": "text/x-python",
   "name": "python",
   "nbconvert_exporter": "python",
   "pygments_lexer": "ipython3",
   "version": "3.10.12"
  }
 },
 "nbformat": 4,
 "nbformat_minor": 5
}
