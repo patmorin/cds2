{
 "cells": [
  {
   "cell_type": "code",
   "execution_count": 2,
   "id": "d53dd113",
   "metadata": {},
   "outputs": [
    {
     "name": "stdout",
     "output_type": "stream",
     "text": [
      "n = 10000, sol = 0.4761047619047618n ~ (10/21)n\n",
      "{'n': 10000.0, 'x3': -0.0, 'x4': -0.0, 'x5': -0.0, 'a': -0.0, 'b': -0.0, 'c': 1427.7142857142856, 'R': 2858.4285714285716, 'S': -0.0}\n"
     ]
    }
   ],
   "source": [
    "from fractions import Fraction\n",
    "N = 10000\n",
    "p = MixedIntegerLinearProgram()\n",
    "v = p.new_variable()\n",
    "\n",
    "n = v[\"n\"]\n",
    "p.add_constraint(n == N)\n",
    "\n",
    "vars = x3, x4, x5, a, b, c = v[\"x3\"], v[\"x4\"], v[\"x5\"], v[\"a\"], v[\"b\"], v[\"c\"]\n",
    "for x in vars:\n",
    "    p.add_constraint(x >= 0)\n",
    "    p.add_constraint(x <= n)\n",
    "\n",
    "vars = R, S = v[\"R\"], v[\"S\"]\n",
    "for x in vars:\n",
    "    p.add_constraint(x >= 0)\n",
    "    p.add_constraint(x <= n)\n",
    "    \n",
    "# D >= 3 + 3*x3 + 2*a + b + 5*c\n",
    "# Q <= 3 + 2*x3 - a - 3*b + 2*c\n",
    "# p.add_constraint(x4 == 0)\n",
    "\n",
    "# a captures vertex in Lemma 8 and vertex in Lemma 9(b)\n",
    "# b captures vertex in Lemma 9(a)\n",
    "# c captures 2-3\n",
    "\n",
    "Dmin = (3 + 3*x3 + 4*x4 + 2*a + b + 5*c)\n",
    "p.add_constraint(Dmin + R + S <= n) # D + R + S == n\n",
    "\n",
    "Qmax = 3 + 2*x3 + 3*x4 - a - 3*b + 2*c\n",
    "p.add_constraint(Qmax >= R) # Q >= R\n",
    "\n",
    "Xmax = x3 + x4 +  a + b + 2*c + (2*R+S)/3 \n",
    "p.set_objective(Xmax) # Size of the final set X_r\n",
    "ds = p.solve()\n",
    "f = Fraction(ds/N).limit_denominator(int(100))\n",
    "print(\"n = {}, sol = {}n ~ ({})n\".format(N, ds/N, f))\n",
    "sol = p.get_values(v)\n",
    "# for k in sorted(sol):\n",
    "#     print(\"{}={:.1f}\".format(k, sol[k]))\n",
    "print(sol)"
   ]
  }
 ],
 "metadata": {
  "kernelspec": {
   "display_name": "SageMath 9.5",
   "language": "sage",
   "name": "sagemath"
  },
  "language_info": {
   "codemirror_mode": {
    "name": "ipython",
    "version": 3
   },
   "file_extension": ".py",
   "mimetype": "text/x-python",
   "name": "python",
   "nbconvert_exporter": "python",
   "pygments_lexer": "ipython3",
   "version": "3.10.12"
  }
 },
 "nbformat": 4,
 "nbformat_minor": 5
}
