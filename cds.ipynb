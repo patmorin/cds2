{
 "cells": [
  {
   "cell_type": "code",
   "execution_count": 95,
   "id": "269fac12",
   "metadata": {},
   "outputs": [
    {
     "data": {
      "text/plain": [
       "[[x3 == 3/17*n - 21/17, Q == 6/17*n + 9/17, R == 6/17*n + 9/17, S == 2/17*n + 3/17]]"
      ]
     },
     "execution_count": 95,
     "metadata": {},
     "output_type": "execute_result"
    }
   ],
   "source": [
    "x3, r, Q, R, S, n = var(\"x3 r Q R S n\")\n",
    "s = [Q==3+2*x3, x3 + Q + R + S == n, Q == R, R == 3*S]\n",
    "solve(s, x3, Q, R, S)\n"
   ]
  },
  {
   "cell_type": "code",
   "execution_count": 81,
   "id": "75090a20",
   "metadata": {},
   "outputs": [
    {
     "name": "stdout",
     "output_type": "stream",
     "text": [
      "n = 10000, sol = 0.4116764705882352n ~ (7/17)n\n",
      "{'r': 1764.4705882352937, 'x3': 1763.4705882352937, 'x4': -0.0, 'x23u': -0.0, 'D': 5293.411764705881, 'Q': 3529.9411764705874, 'R': 3529.9411764705874, 'S': 1176.647058823529, 'n': 10000.0}\n"
     ]
    }
   ],
   "source": [
    "from fractions import Fraction\n",
    "p = MixedIntegerLinearProgram()\n",
    "v = p.new_variable()\n",
    "r, x3, x4, x23u, D, Q, R, S, n = v[\"r\"], v[\"x3\"], v[\"x4\"], v[\"x23u\"], v[\"D\"], v[\"Q\"], v[\"R\"], v[\"S\"], v[\"n\"]\n",
    "N = 10000\n",
    "p.add_constraint(n == N)\n",
    "p.add_constraint(r >= 0)\n",
    "p.add_constraint(Q >= 0)\n",
    "p.add_constraint(R >= 0)\n",
    "p.add_constraint(S >= 0)\n",
    "p.add_constraint(x3 >= 0)\n",
    "p.add_constraint(x4 >= 0)\n",
    "p.add_constraint(x23u >= 0)\n",
    "p.add_constraint(D >= 3 + 3*x3 + 4*x4 + 5*x23u)\n",
    "p.add_constraint(r-1 == x3 + x4 + x23u)\n",
    "p.add_constraint(Q <= 3 + 2*x3 + 3*x4 + 2*x23u)\n",
    "p.add_constraint(Q >= R)\n",
    "p.add_constraint(R >= 3*S)\n",
    "# p.add_constraint(D+R+S == n)\n",
    "p.add_constraint(n-D >= 4*S)\n",
    "p.add_constraint(r-1+7*S <= n)\n",
    "p.set_objective(r-1 + (n-D-S)/3 + S)\n",
    "ds = p.solve()\n",
    "f = Fraction(ds/N).limit_denominator(int(100))\n",
    "print(\"n = {}, sol = {}n ~ ({})n\".format(N, ds/N, f))\n",
    "sol = p.get_values(v)\n",
    "print(sol)"
   ]
  },
  {
   "cell_type": "code",
   "execution_count": null,
   "id": "9db4fcbd",
   "metadata": {},
   "outputs": [],
   "source": []
  },
  {
   "cell_type": "code",
   "execution_count": null,
   "id": "1df5b31f",
   "metadata": {},
   "outputs": [],
   "source": []
  }
 ],
 "metadata": {
  "kernelspec": {
   "display_name": "SageMath 9.5",
   "language": "sage",
   "name": "sagemath"
  },
  "language_info": {
   "codemirror_mode": {
    "name": "ipython",
    "version": 3
   },
   "file_extension": ".py",
   "mimetype": "text/x-python",
   "name": "python",
   "nbconvert_exporter": "python",
   "pygments_lexer": "ipython3",
   "version": "3.10.12"
  }
 },
 "nbformat": 4,
 "nbformat_minor": 5
}
