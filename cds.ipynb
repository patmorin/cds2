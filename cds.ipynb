{
 "cells": [
  {
   "cell_type": "code",
   "execution_count": 27,
   "id": "269fac12",
   "metadata": {},
   "outputs": [
    {
     "data": {
      "text/plain": [
       "[[r == 1/5*n - 1/5, x3 == 1/5*n - 6/5, Q == 2/5*n + 3/5, R == 2/5*n + 3/5, S == 0, K == 4/15*n + 2/5, O == 7/15*n - 4/5]]"
      ]
     },
     "execution_count": 27,
     "metadata": {},
     "output_type": "execute_result"
    }
   ],
   "source": [
    "x3, r, Q, R, S, n, K, O = var(\"x3 r Q R S n K O\")\n",
    "s = [r-1==x3, Q==3+2*x3, Q==R, x3 + Q + R + S == n, S==0, K == 2*R/3, O == r-1+K]\n",
    "solve(s, r, x3, Q, R, S, K, O)\n"
   ]
  },
  {
   "cell_type": "code",
   "execution_count": 20,
   "id": "75090a20",
   "metadata": {},
   "outputs": [
    {
     "name": "stdout",
     "output_type": "stream",
     "text": [
      "n = 10000, sol = 0.4665866666666667n ~ (7/15)n\n",
      "{'r': 1999.8, 'x3': 1998.8, 'x4': -0.0, 'x23u': -0.0, 'D': 5999.4, 'Q': 4000.6000000000004, 'R': 4000.6000000000004, 'S': -0.0, 'K': 2667.0666666666666, 'n': 10000.0}\n"
     ]
    }
   ],
   "source": [
    "from fractions import Fraction\n",
    "p = MixedIntegerLinearProgram()\n",
    "v = p.new_variable()\n",
    "r, x3, x4, x23u, D, Q, R, S, K, n = v[\"r\"], v[\"x3\"], v[\"x4\"], v[\"x23u\"], v[\"D\"], v[\"Q\"], v[\"R\"], v[\"S\"], v[\"K\"], v[\"n\"]\n",
    "N = 10000\n",
    "p.add_constraint(n == N)\n",
    "p.add_constraint(r >= 0)\n",
    "p.add_constraint(Q >= 0)\n",
    "p.add_constraint(R >= 0)\n",
    "p.add_constraint(S >= 0)\n",
    "p.add_constraint(x3 >= 0)\n",
    "p.add_constraint(x4 >= 0)\n",
    "p.add_constraint(x23u >= 0)\n",
    "p.add_constraint(D >= 3 + 3*x3 + 4*x4 + 5*x23u)\n",
    "p.add_constraint(r-1 == x3 + x4 + x23u)\n",
    "p.add_constraint(Q <= 3 + 2*x3 + 3*x4 + 2*x23u)\n",
    "p.add_constraint(Q >= R)\n",
    "p.add_constraint(R >= 3*S)\n",
    "p.add_constraint(D+R+S == n)\n",
    "# p.add_constraint(n-D >= 4*S)\n",
    "# p.add_constraint(r-1+7*S <= n)\n",
    "p.add_constraint(K <= 2*R/3)  # This we can easily prove\n",
    "# p.add_constraint(K <= R/3 + S) \n",
    "# p.add_constraint(K <= R/2 + S) \n",
    "p.set_objective(r-1 + K)\n",
    "ds = p.solve()\n",
    "f = Fraction(ds/N).limit_denominator(int(100))\n",
    "print(\"n = {}, sol = {}n ~ ({})n\".format(N, ds/N, f))\n",
    "sol = p.get_values(v)\n",
    "print(sol)"
   ]
  },
  {
   "cell_type": "code",
   "execution_count": null,
   "id": "f391617d",
   "metadata": {},
   "outputs": [],
   "source": []
  }
 ],
 "metadata": {
  "kernelspec": {
   "display_name": "SageMath 9.5",
   "language": "sage",
   "name": "sagemath"
  },
  "language_info": {
   "codemirror_mode": {
    "name": "ipython",
    "version": 3
   },
   "file_extension": ".py",
   "mimetype": "text/x-python",
   "name": "python",
   "nbconvert_exporter": "python",
   "pygments_lexer": "ipython3",
   "version": "3.10.12"
  }
 },
 "nbformat": 4,
 "nbformat_minor": 5
}
