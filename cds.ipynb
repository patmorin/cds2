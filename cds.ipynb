{
 "cells": [
  {
   "cell_type": "code",
   "execution_count": 38,
   "id": "269fac12",
   "metadata": {},
   "outputs": [
    {
     "data": {
      "text/plain": [
       "[[x2 == 3/13*n - 6/13, z == 3/13*n - 19/13, I == 1/13*n + 11/13]]"
      ]
     },
     "execution_count": 38,
     "metadata": {},
     "output_type": "execute_result"
    }
   ],
   "source": [
    "x2, z, I, n = var(\"x2 z I n\")\n",
    "s = [3 + 2*x2 + 2*z + I == n, x2 == z+1, 3+x2 == 3*I]\n",
    "solve(s, x2, z, I)\n"
   ]
  },
  {
   "cell_type": "code",
   "execution_count": 41,
   "id": "75090a20",
   "metadata": {},
   "outputs": [
    {
     "name": "stdout",
     "output_type": "stream",
     "text": [
      "n=10000000, sol=0.5384614307692308n, sol-(7n-14)/13=0.00000000000000000000n\n",
      "{'x2': 2307691.846153846, 'z': 2307690.846153846, 'i': 769231.615384616, 'n': 10000000.0}\n"
     ]
    }
   ],
   "source": [
    "p = MixedIntegerLinearProgram()\n",
    "v = p.new_variable()\n",
    "x2, z, I, n = v[\"x2\"], v[\"z\"], v[\"i\"], v[\"n\"]\n",
    "N = 10000000\n",
    "p.add_constraint(n <= N)\n",
    "p.add_constraint(x2 >= 0)\n",
    "p.add_constraint(z >= 0)\n",
    "p.add_constraint(I >= 0)\n",
    "p.add_constraint(3 + 2*x2 + 2*z + I <= n)\n",
    "p.add_constraint(x2 <= z+1)\n",
    "p.add_constraint(3+x2 >= 3*I)\n",
    "p.set_objective(x2 + z + I)\n",
    "ds = p.solve()\n",
    "print(\"n={}, sol={}n, sol-(7n-14)/13={:.20f}n\".format(N, ds/N, ds - (7*N-14)/13))\n",
    "sol = p.get_values(v)\n",
    "print(sol)"
   ]
  }
 ],
 "metadata": {
  "kernelspec": {
   "display_name": "SageMath 9.5",
   "language": "sage",
   "name": "sagemath"
  },
  "language_info": {
   "codemirror_mode": {
    "name": "ipython",
    "version": 3
   },
   "file_extension": ".py",
   "mimetype": "text/x-python",
   "name": "python",
   "nbconvert_exporter": "python",
   "pygments_lexer": "ipython3",
   "version": "3.10.12"
  }
 },
 "nbformat": 4,
 "nbformat_minor": 5
}
