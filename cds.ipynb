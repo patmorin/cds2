{
 "cells": [
  {
   "cell_type": "code",
   "execution_count": 38,
   "id": "269fac12",
   "metadata": {},
   "outputs": [
    {
     "data": {
      "text/plain": [
       "[[x2 == 3/13*n - 6/13, z == 3/13*n - 19/13, I == 1/13*n + 11/13]]"
      ]
     },
     "execution_count": 38,
     "metadata": {},
     "output_type": "execute_result"
    }
   ],
   "source": [
    "x2, z, I, n = var(\"x2 z I n\")\n",
    "s = [3 + 2*x2 + 2*z + I == n, x2 == z+1, 3+x2 == 3*I]\n",
    "solve(s, x2, z, I)\n"
   ]
  },
  {
   "cell_type": "code",
   "execution_count": 21,
   "id": "75090a20",
   "metadata": {},
   "outputs": [
    {
     "name": "stdout",
     "output_type": "stream",
     "text": [
      "n=1000000000, sol=0.4117647058823529n, sol-(7n-14)/13=-126696831.50226247310638427734n\n",
      "{'r': 176470588.23529413, 'x3': 176470588.23529413, 'x23u': -0.0, 'D': 529411764.7058824, 'B': 352941176.4705882, 'Q': 352941176.4705882, 'I': 117647058.8235294, 'n': 1000000000.0}\n"
     ]
    }
   ],
   "source": [
    "p = MixedIntegerLinearProgram()\n",
    "v = p.new_variable()\n",
    "r, x3, x23u, D, B, Q, I, n = v[\"r\"], v[\"x3\"], v[\"x23u\"], v[\"D\"], v[\"B\"], v[\"Q\"], v[\"I\"], v[\"n\"]\n",
    "N = 1000000000\n",
    "p.add_constraint(n <= N)\n",
    "p.add_constraint(r >= 0)\n",
    "p.add_constraint(B >= 0)\n",
    "p.add_constraint(Q >= 0)\n",
    "p.add_constraint(I >= 0)\n",
    "p.add_constraint(x3 >= 0)\n",
    "p.add_constraint(x23u >= 0)\n",
    "p.add_constraint(D >= 3*x3 + 5*x23u)\n",
    "p.add_constraint(r == x3 + x23u)\n",
    "p.add_constraint(B <= 2*r)\n",
    "p.add_constraint(B >= Q)\n",
    "p.add_constraint(Q >= 3*I)\n",
    "p.add_constraint(D+Q+I == n)\n",
    "p.add_constraint(r+B+Q+I <= n)\n",
    "p.set_objective(r + Q/3 + I)\n",
    "ds = p.solve()\n",
    "print(\"n={}, sol={}n, sol-(7n-14)/13={:.20f}n\".format(N, ds/N, ds - (7*N-14)/13))\n",
    "sol = p.get_values(v)\n",
    "print(sol)"
   ]
  },
  {
   "cell_type": "code",
   "execution_count": 17,
   "id": "314c5bdc",
   "metadata": {},
   "outputs": [
    {
     "data": {
      "text/plain": [
       "[[r == 3/31*n, D == 15/31*n, B == 12/31*n, Q == 12/31*n, I == 4/31*n]]"
      ]
     },
     "execution_count": 17,
     "metadata": {},
     "output_type": "execute_result"
    }
   ],
   "source": [
    "r, D, B, Q, I, n = var(\"r D B Q I n\")\n",
    "s = [D == 5*r, B == Q, Q == 3*I, D + Q + I == n, r + B + Q + I == n]\n",
    "solve(s, r, D, B, Q, I)\n"
   ]
  }
 ],
 "metadata": {
  "kernelspec": {
   "display_name": "SageMath 9.5",
   "language": "sage",
   "name": "sagemath"
  },
  "language_info": {
   "codemirror_mode": {
    "name": "ipython",
    "version": 3
   },
   "file_extension": ".py",
   "mimetype": "text/x-python",
   "name": "python",
   "nbconvert_exporter": "python",
   "pygments_lexer": "ipython3",
   "version": "3.10.12"
  }
 },
 "nbformat": 4,
 "nbformat_minor": 5
}
